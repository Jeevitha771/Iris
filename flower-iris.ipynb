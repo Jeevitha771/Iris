{
 "cells": [
  {
   "cell_type": "markdown",
   "id": "48a02591",
   "metadata": {
    "papermill": {
     "duration": 0.007063,
     "end_time": "2022-12-11T09:33:56.628912",
     "exception": false,
     "start_time": "2022-12-11T09:33:56.621849",
     "status": "completed"
    },
    "tags": []
   },
   "source": [
    "**This is a Simple Data Analysis work.We use #Iris Dataset. Import the required libraries**"
   ]
  },
  {
   "cell_type": "code",
   "execution_count": 1,
   "id": "8304b12f",
   "metadata": {
    "execution": {
     "iopub.execute_input": "2022-12-11T09:33:56.643782Z",
     "iopub.status.busy": "2022-12-11T09:33:56.643165Z",
     "iopub.status.idle": "2022-12-11T09:33:58.410053Z",
     "shell.execute_reply": "2022-12-11T09:33:58.408746Z"
    },
    "papermill": {
     "duration": 1.778471,
     "end_time": "2022-12-11T09:33:58.413401",
     "exception": false,
     "start_time": "2022-12-11T09:33:56.634930",
     "status": "completed"
    },
    "tags": []
   },
   "outputs": [],
   "source": [
    "import numpy as np\n",
    "import pandas as pd\n",
    "import matplotlib.pyplot as plt\n",
    "from sklearn.preprocessing import LabelEncoder\n",
    "from sklearn.preprocessing import StandardScaler\n",
    "from sklearn.metrics import accuracy_score\n",
    "from sklearn.model_selection import train_test_split\n",
    "from sklearn.ensemble import RandomForestClassifier\n",
    "import seaborn as sns"
   ]
  },
  {
   "cell_type": "code",
   "execution_count": 2,
   "id": "61d5cf36",
   "metadata": {
    "execution": {
     "iopub.execute_input": "2022-12-11T09:33:58.428289Z",
     "iopub.status.busy": "2022-12-11T09:33:58.427113Z",
     "iopub.status.idle": "2022-12-11T09:33:58.449614Z",
     "shell.execute_reply": "2022-12-11T09:33:58.448281Z"
    },
    "papermill": {
     "duration": 0.033606,
     "end_time": "2022-12-11T09:33:58.453086",
     "exception": false,
     "start_time": "2022-12-11T09:33:58.419480",
     "status": "completed"
    },
    "tags": []
   },
   "outputs": [],
   "source": [
    "dataset = pd.read_csv(\"../input/iris-data-set-for-beginners/iris.csv\")"
   ]
  },
  {
   "cell_type": "code",
   "execution_count": 3,
   "id": "81198adc",
   "metadata": {
    "execution": {
     "iopub.execute_input": "2022-12-11T09:33:58.467862Z",
     "iopub.status.busy": "2022-12-11T09:33:58.467373Z",
     "iopub.status.idle": "2022-12-11T09:33:58.493842Z",
     "shell.execute_reply": "2022-12-11T09:33:58.492462Z"
    },
    "papermill": {
     "duration": 0.039629,
     "end_time": "2022-12-11T09:33:58.499004",
     "exception": false,
     "start_time": "2022-12-11T09:33:58.459375",
     "status": "completed"
    },
    "tags": []
   },
   "outputs": [
    {
     "data": {
      "text/html": [
       "<div>\n",
       "<style scoped>\n",
       "    .dataframe tbody tr th:only-of-type {\n",
       "        vertical-align: middle;\n",
       "    }\n",
       "\n",
       "    .dataframe tbody tr th {\n",
       "        vertical-align: top;\n",
       "    }\n",
       "\n",
       "    .dataframe thead th {\n",
       "        text-align: right;\n",
       "    }\n",
       "</style>\n",
       "<table border=\"1\" class=\"dataframe\">\n",
       "  <thead>\n",
       "    <tr style=\"text-align: right;\">\n",
       "      <th></th>\n",
       "      <th>Unnamed: 0</th>\n",
       "      <th>Sepal.Length</th>\n",
       "      <th>Sepal.Width</th>\n",
       "      <th>Petal.Length</th>\n",
       "      <th>Petal.Width</th>\n",
       "      <th>Species</th>\n",
       "    </tr>\n",
       "  </thead>\n",
       "  <tbody>\n",
       "    <tr>\n",
       "      <th>0</th>\n",
       "      <td>1</td>\n",
       "      <td>5.1</td>\n",
       "      <td>3.5</td>\n",
       "      <td>1.4</td>\n",
       "      <td>0.2</td>\n",
       "      <td>setosa</td>\n",
       "    </tr>\n",
       "    <tr>\n",
       "      <th>1</th>\n",
       "      <td>2</td>\n",
       "      <td>4.9</td>\n",
       "      <td>3.0</td>\n",
       "      <td>1.4</td>\n",
       "      <td>0.2</td>\n",
       "      <td>setosa</td>\n",
       "    </tr>\n",
       "    <tr>\n",
       "      <th>2</th>\n",
       "      <td>3</td>\n",
       "      <td>4.7</td>\n",
       "      <td>3.2</td>\n",
       "      <td>1.3</td>\n",
       "      <td>0.2</td>\n",
       "      <td>setosa</td>\n",
       "    </tr>\n",
       "    <tr>\n",
       "      <th>3</th>\n",
       "      <td>4</td>\n",
       "      <td>4.6</td>\n",
       "      <td>3.1</td>\n",
       "      <td>1.5</td>\n",
       "      <td>0.2</td>\n",
       "      <td>setosa</td>\n",
       "    </tr>\n",
       "    <tr>\n",
       "      <th>4</th>\n",
       "      <td>5</td>\n",
       "      <td>5.0</td>\n",
       "      <td>3.6</td>\n",
       "      <td>1.4</td>\n",
       "      <td>0.2</td>\n",
       "      <td>setosa</td>\n",
       "    </tr>\n",
       "  </tbody>\n",
       "</table>\n",
       "</div>"
      ],
      "text/plain": [
       "   Unnamed: 0  Sepal.Length  Sepal.Width  Petal.Length  Petal.Width Species\n",
       "0           1           5.1          3.5           1.4          0.2  setosa\n",
       "1           2           4.9          3.0           1.4          0.2  setosa\n",
       "2           3           4.7          3.2           1.3          0.2  setosa\n",
       "3           4           4.6          3.1           1.5          0.2  setosa\n",
       "4           5           5.0          3.6           1.4          0.2  setosa"
      ]
     },
     "execution_count": 3,
     "metadata": {},
     "output_type": "execute_result"
    }
   ],
   "source": [
    "dataset.head()"
   ]
  },
  {
   "cell_type": "code",
   "execution_count": 4,
   "id": "f89de713",
   "metadata": {
    "execution": {
     "iopub.execute_input": "2022-12-11T09:33:58.514615Z",
     "iopub.status.busy": "2022-12-11T09:33:58.513740Z",
     "iopub.status.idle": "2022-12-11T09:33:58.553171Z",
     "shell.execute_reply": "2022-12-11T09:33:58.551635Z"
    },
    "papermill": {
     "duration": 0.050445,
     "end_time": "2022-12-11T09:33:58.555973",
     "exception": false,
     "start_time": "2022-12-11T09:33:58.505528",
     "status": "completed"
    },
    "tags": []
   },
   "outputs": [
    {
     "data": {
      "text/html": [
       "<div>\n",
       "<style scoped>\n",
       "    .dataframe tbody tr th:only-of-type {\n",
       "        vertical-align: middle;\n",
       "    }\n",
       "\n",
       "    .dataframe tbody tr th {\n",
       "        vertical-align: top;\n",
       "    }\n",
       "\n",
       "    .dataframe thead th {\n",
       "        text-align: right;\n",
       "    }\n",
       "</style>\n",
       "<table border=\"1\" class=\"dataframe\">\n",
       "  <thead>\n",
       "    <tr style=\"text-align: right;\">\n",
       "      <th></th>\n",
       "      <th>Unnamed: 0</th>\n",
       "      <th>Sepal.Length</th>\n",
       "      <th>Sepal.Width</th>\n",
       "      <th>Petal.Length</th>\n",
       "      <th>Petal.Width</th>\n",
       "    </tr>\n",
       "  </thead>\n",
       "  <tbody>\n",
       "    <tr>\n",
       "      <th>count</th>\n",
       "      <td>150.000000</td>\n",
       "      <td>150.000000</td>\n",
       "      <td>150.000000</td>\n",
       "      <td>150.000000</td>\n",
       "      <td>150.000000</td>\n",
       "    </tr>\n",
       "    <tr>\n",
       "      <th>mean</th>\n",
       "      <td>75.500000</td>\n",
       "      <td>5.843333</td>\n",
       "      <td>3.057333</td>\n",
       "      <td>3.758000</td>\n",
       "      <td>1.199333</td>\n",
       "    </tr>\n",
       "    <tr>\n",
       "      <th>std</th>\n",
       "      <td>43.445368</td>\n",
       "      <td>0.828066</td>\n",
       "      <td>0.435866</td>\n",
       "      <td>1.765298</td>\n",
       "      <td>0.762238</td>\n",
       "    </tr>\n",
       "    <tr>\n",
       "      <th>min</th>\n",
       "      <td>1.000000</td>\n",
       "      <td>4.300000</td>\n",
       "      <td>2.000000</td>\n",
       "      <td>1.000000</td>\n",
       "      <td>0.100000</td>\n",
       "    </tr>\n",
       "    <tr>\n",
       "      <th>25%</th>\n",
       "      <td>38.250000</td>\n",
       "      <td>5.100000</td>\n",
       "      <td>2.800000</td>\n",
       "      <td>1.600000</td>\n",
       "      <td>0.300000</td>\n",
       "    </tr>\n",
       "    <tr>\n",
       "      <th>50%</th>\n",
       "      <td>75.500000</td>\n",
       "      <td>5.800000</td>\n",
       "      <td>3.000000</td>\n",
       "      <td>4.350000</td>\n",
       "      <td>1.300000</td>\n",
       "    </tr>\n",
       "    <tr>\n",
       "      <th>75%</th>\n",
       "      <td>112.750000</td>\n",
       "      <td>6.400000</td>\n",
       "      <td>3.300000</td>\n",
       "      <td>5.100000</td>\n",
       "      <td>1.800000</td>\n",
       "    </tr>\n",
       "    <tr>\n",
       "      <th>max</th>\n",
       "      <td>150.000000</td>\n",
       "      <td>7.900000</td>\n",
       "      <td>4.400000</td>\n",
       "      <td>6.900000</td>\n",
       "      <td>2.500000</td>\n",
       "    </tr>\n",
       "  </tbody>\n",
       "</table>\n",
       "</div>"
      ],
      "text/plain": [
       "       Unnamed: 0  Sepal.Length  Sepal.Width  Petal.Length  Petal.Width\n",
       "count  150.000000    150.000000   150.000000    150.000000   150.000000\n",
       "mean    75.500000      5.843333     3.057333      3.758000     1.199333\n",
       "std     43.445368      0.828066     0.435866      1.765298     0.762238\n",
       "min      1.000000      4.300000     2.000000      1.000000     0.100000\n",
       "25%     38.250000      5.100000     2.800000      1.600000     0.300000\n",
       "50%     75.500000      5.800000     3.000000      4.350000     1.300000\n",
       "75%    112.750000      6.400000     3.300000      5.100000     1.800000\n",
       "max    150.000000      7.900000     4.400000      6.900000     2.500000"
      ]
     },
     "execution_count": 4,
     "metadata": {},
     "output_type": "execute_result"
    }
   ],
   "source": [
    "dataset.describe()"
   ]
  },
  {
   "cell_type": "code",
   "execution_count": 5,
   "id": "72b84df1",
   "metadata": {
    "execution": {
     "iopub.execute_input": "2022-12-11T09:33:58.571339Z",
     "iopub.status.busy": "2022-12-11T09:33:58.570885Z",
     "iopub.status.idle": "2022-12-11T09:33:58.588856Z",
     "shell.execute_reply": "2022-12-11T09:33:58.587308Z"
    },
    "papermill": {
     "duration": 0.030081,
     "end_time": "2022-12-11T09:33:58.592957",
     "exception": false,
     "start_time": "2022-12-11T09:33:58.562876",
     "status": "completed"
    },
    "tags": []
   },
   "outputs": [
    {
     "name": "stdout",
     "output_type": "stream",
     "text": [
      "<class 'pandas.core.frame.DataFrame'>\n",
      "RangeIndex: 150 entries, 0 to 149\n",
      "Data columns (total 6 columns):\n",
      " #   Column        Non-Null Count  Dtype  \n",
      "---  ------        --------------  -----  \n",
      " 0   Unnamed: 0    150 non-null    int64  \n",
      " 1   Sepal.Length  150 non-null    float64\n",
      " 2   Sepal.Width   150 non-null    float64\n",
      " 3   Petal.Length  150 non-null    float64\n",
      " 4   Petal.Width   150 non-null    float64\n",
      " 5   Species       150 non-null    object \n",
      "dtypes: float64(4), int64(1), object(1)\n",
      "memory usage: 7.2+ KB\n"
     ]
    }
   ],
   "source": [
    "dataset.info()"
   ]
  },
  {
   "cell_type": "code",
   "execution_count": 6,
   "id": "930302e0",
   "metadata": {
    "execution": {
     "iopub.execute_input": "2022-12-11T09:33:58.609848Z",
     "iopub.status.busy": "2022-12-11T09:33:58.609333Z",
     "iopub.status.idle": "2022-12-11T09:33:58.617042Z",
     "shell.execute_reply": "2022-12-11T09:33:58.615288Z"
    },
    "papermill": {
     "duration": 0.020169,
     "end_time": "2022-12-11T09:33:58.620251",
     "exception": false,
     "start_time": "2022-12-11T09:33:58.600082",
     "status": "completed"
    },
    "tags": []
   },
   "outputs": [],
   "source": [
    "dataset = dataset.drop(\"Unnamed: 0\",axis=1)"
   ]
  },
  {
   "cell_type": "code",
   "execution_count": 7,
   "id": "8f114c93",
   "metadata": {
    "execution": {
     "iopub.execute_input": "2022-12-11T09:33:58.637020Z",
     "iopub.status.busy": "2022-12-11T09:33:58.636496Z",
     "iopub.status.idle": "2022-12-11T09:33:58.651815Z",
     "shell.execute_reply": "2022-12-11T09:33:58.650539Z"
    },
    "papermill": {
     "duration": 0.027138,
     "end_time": "2022-12-11T09:33:58.654571",
     "exception": false,
     "start_time": "2022-12-11T09:33:58.627433",
     "status": "completed"
    },
    "tags": []
   },
   "outputs": [
    {
     "data": {
      "text/html": [
       "<div>\n",
       "<style scoped>\n",
       "    .dataframe tbody tr th:only-of-type {\n",
       "        vertical-align: middle;\n",
       "    }\n",
       "\n",
       "    .dataframe tbody tr th {\n",
       "        vertical-align: top;\n",
       "    }\n",
       "\n",
       "    .dataframe thead th {\n",
       "        text-align: right;\n",
       "    }\n",
       "</style>\n",
       "<table border=\"1\" class=\"dataframe\">\n",
       "  <thead>\n",
       "    <tr style=\"text-align: right;\">\n",
       "      <th></th>\n",
       "      <th>Sepal.Length</th>\n",
       "      <th>Sepal.Width</th>\n",
       "      <th>Petal.Length</th>\n",
       "      <th>Petal.Width</th>\n",
       "      <th>Species</th>\n",
       "    </tr>\n",
       "  </thead>\n",
       "  <tbody>\n",
       "    <tr>\n",
       "      <th>0</th>\n",
       "      <td>5.1</td>\n",
       "      <td>3.5</td>\n",
       "      <td>1.4</td>\n",
       "      <td>0.2</td>\n",
       "      <td>setosa</td>\n",
       "    </tr>\n",
       "    <tr>\n",
       "      <th>1</th>\n",
       "      <td>4.9</td>\n",
       "      <td>3.0</td>\n",
       "      <td>1.4</td>\n",
       "      <td>0.2</td>\n",
       "      <td>setosa</td>\n",
       "    </tr>\n",
       "    <tr>\n",
       "      <th>2</th>\n",
       "      <td>4.7</td>\n",
       "      <td>3.2</td>\n",
       "      <td>1.3</td>\n",
       "      <td>0.2</td>\n",
       "      <td>setosa</td>\n",
       "    </tr>\n",
       "    <tr>\n",
       "      <th>3</th>\n",
       "      <td>4.6</td>\n",
       "      <td>3.1</td>\n",
       "      <td>1.5</td>\n",
       "      <td>0.2</td>\n",
       "      <td>setosa</td>\n",
       "    </tr>\n",
       "    <tr>\n",
       "      <th>4</th>\n",
       "      <td>5.0</td>\n",
       "      <td>3.6</td>\n",
       "      <td>1.4</td>\n",
       "      <td>0.2</td>\n",
       "      <td>setosa</td>\n",
       "    </tr>\n",
       "  </tbody>\n",
       "</table>\n",
       "</div>"
      ],
      "text/plain": [
       "   Sepal.Length  Sepal.Width  Petal.Length  Petal.Width Species\n",
       "0           5.1          3.5           1.4          0.2  setosa\n",
       "1           4.9          3.0           1.4          0.2  setosa\n",
       "2           4.7          3.2           1.3          0.2  setosa\n",
       "3           4.6          3.1           1.5          0.2  setosa\n",
       "4           5.0          3.6           1.4          0.2  setosa"
      ]
     },
     "execution_count": 7,
     "metadata": {},
     "output_type": "execute_result"
    }
   ],
   "source": [
    "dataset.head()"
   ]
  },
  {
   "cell_type": "markdown",
   "id": "b5ae323d",
   "metadata": {
    "papermill": {
     "duration": 0.006638,
     "end_time": "2022-12-11T09:33:58.669726",
     "exception": false,
     "start_time": "2022-12-11T09:33:58.663088",
     "status": "completed"
    },
    "tags": []
   },
   "source": [
    "Visualizing three catogories of flowers,that is  using one of the features petal length"
   ]
  },
  {
   "cell_type": "code",
   "execution_count": 8,
   "id": "c3a0aa12",
   "metadata": {
    "execution": {
     "iopub.execute_input": "2022-12-11T09:33:58.686287Z",
     "iopub.status.busy": "2022-12-11T09:33:58.685823Z",
     "iopub.status.idle": "2022-12-11T09:33:58.970988Z",
     "shell.execute_reply": "2022-12-11T09:33:58.970081Z"
    },
    "papermill": {
     "duration": 0.297165,
     "end_time": "2022-12-11T09:33:58.973719",
     "exception": false,
     "start_time": "2022-12-11T09:33:58.676554",
     "status": "completed"
    },
    "tags": []
   },
   "outputs": [
    {
     "data": {
      "text/plain": [
       "<AxesSubplot:xlabel='Species', ylabel='Petal.Length'>"
      ]
     },
     "execution_count": 8,
     "metadata": {},
     "output_type": "execute_result"
    },
    {
     "data": {
      "image/png": "[encoded data removed]",
      "text/plain": [
       "<Figure size 432x288 with 1 Axes>"
      ]
     },
     "metadata": {
      "needs_background": "light"
     },
     "output_type": "display_data"
    }
   ],
   "source": [
    "sns.boxplot(x=\"Species\",y=\"Petal.Length\",data = dataset)\n"
   ]
  },
  {
   "cell_type": "markdown",
   "id": "a10f49ce",
   "metadata": {
    "papermill": {
     "duration": 0.007117,
     "end_time": "2022-12-11T09:33:58.987941",
     "exception": false,
     "start_time": "2022-12-11T09:33:58.980824",
     "status": "completed"
    },
    "tags": []
   },
   "source": [
    "splitting dependent and independent variables"
   ]
  },
  {
   "cell_type": "code",
   "execution_count": 9,
   "id": "cc062141",
   "metadata": {
    "execution": {
     "iopub.execute_input": "2022-12-11T09:33:59.004304Z",
     "iopub.status.busy": "2022-12-11T09:33:59.003871Z",
     "iopub.status.idle": "2022-12-11T09:33:59.012243Z",
     "shell.execute_reply": "2022-12-11T09:33:59.011111Z"
    },
    "papermill": {
     "duration": 0.020493,
     "end_time": "2022-12-11T09:33:59.015560",
     "exception": false,
     "start_time": "2022-12-11T09:33:58.995067",
     "status": "completed"
    },
    "tags": []
   },
   "outputs": [
    {
     "name": "stdout",
     "output_type": "stream",
     "text": [
      "['setosa' 'setosa' 'setosa' 'setosa' 'setosa' 'setosa' 'setosa' 'setosa'\n",
      " 'setosa' 'setosa' 'setosa' 'setosa' 'setosa' 'setosa' 'setosa' 'setosa'\n",
      " 'setosa' 'setosa' 'setosa' 'setosa' 'setosa' 'setosa' 'setosa' 'setosa'\n",
      " 'setosa' 'setosa' 'setosa' 'setosa' 'setosa' 'setosa' 'setosa' 'setosa'\n",
      " 'setosa' 'setosa' 'setosa' 'setosa' 'setosa' 'setosa' 'setosa' 'setosa'\n",
      " 'setosa' 'setosa' 'setosa' 'setosa' 'setosa' 'setosa' 'setosa' 'setosa'\n",
      " 'setosa' 'setosa' 'versicolor' 'versicolor' 'versicolor' 'versicolor'\n",
      " 'versicolor' 'versicolor' 'versicolor' 'versicolor' 'versicolor'\n",
      " 'versicolor' 'versicolor' 'versicolor' 'versicolor' 'versicolor'\n",
      " 'versicolor' 'versicolor' 'versicolor' 'versicolor' 'versicolor'\n",
      " 'versicolor' 'versicolor' 'versicolor' 'versicolor' 'versicolor'\n",
      " 'versicolor' 'versicolor' 'versicolor' 'versicolor' 'versicolor'\n",
      " 'versicolor' 'versicolor' 'versicolor' 'versicolor' 'versicolor'\n",
      " 'versicolor' 'versicolor' 'versicolor' 'versicolor' 'versicolor'\n",
      " 'versicolor' 'versicolor' 'versicolor' 'versicolor' 'versicolor'\n",
      " 'versicolor' 'versicolor' 'versicolor' 'versicolor' 'versicolor'\n",
      " 'versicolor' 'virginica' 'virginica' 'virginica' 'virginica' 'virginica'\n",
      " 'virginica' 'virginica' 'virginica' 'virginica' 'virginica' 'virginica'\n",
      " 'virginica' 'virginica' 'virginica' 'virginica' 'virginica' 'virginica'\n",
      " 'virginica' 'virginica' 'virginica' 'virginica' 'virginica' 'virginica'\n",
      " 'virginica' 'virginica' 'virginica' 'virginica' 'virginica' 'virginica'\n",
      " 'virginica' 'virginica' 'virginica' 'virginica' 'virginica' 'virginica'\n",
      " 'virginica' 'virginica' 'virginica' 'virginica' 'virginica' 'virginica'\n",
      " 'virginica' 'virginica' 'virginica' 'virginica' 'virginica' 'virginica'\n",
      " 'virginica' 'virginica' 'virginica']\n"
     ]
    }
   ],
   "source": [
    "x = dataset.iloc[:,:-1].values\n",
    "y = dataset.iloc[:,-1].values\n",
    "print(y)"
   ]
  },
  {
   "cell_type": "code",
   "execution_count": 10,
   "id": "09657ca4",
   "metadata": {
    "execution": {
     "iopub.execute_input": "2022-12-11T09:33:59.033491Z",
     "iopub.status.busy": "2022-12-11T09:33:59.032348Z",
     "iopub.status.idle": "2022-12-11T09:33:59.037922Z",
     "shell.execute_reply": "2022-12-11T09:33:59.036739Z"
    },
    "papermill": {
     "duration": 0.016431,
     "end_time": "2022-12-11T09:33:59.040364",
     "exception": false,
     "start_time": "2022-12-11T09:33:59.023933",
     "status": "completed"
    },
    "tags": []
   },
   "outputs": [],
   "source": [
    "y = y.reshape(150,1)"
   ]
  },
  {
   "cell_type": "markdown",
   "id": "8a997c94",
   "metadata": {
    "papermill": {
     "duration": 0.006796,
     "end_time": "2022-12-11T09:33:59.054241",
     "exception": false,
     "start_time": "2022-12-11T09:33:59.047445",
     "status": "completed"
    },
    "tags": []
   },
   "source": [
    "conversion to numerical data"
   ]
  },
  {
   "cell_type": "code",
   "execution_count": 11,
   "id": "f1e182d9",
   "metadata": {
    "execution": {
     "iopub.execute_input": "2022-12-11T09:33:59.070430Z",
     "iopub.status.busy": "2022-12-11T09:33:59.069942Z",
     "iopub.status.idle": "2022-12-11T09:33:59.076243Z",
     "shell.execute_reply": "2022-12-11T09:33:59.074968Z"
    },
    "papermill": {
     "duration": 0.017796,
     "end_time": "2022-12-11T09:33:59.079084",
     "exception": false,
     "start_time": "2022-12-11T09:33:59.061288",
     "status": "completed"
    },
    "tags": []
   },
   "outputs": [],
   "source": [
    "l1=LabelEncoder()\n",
    "y[:,-1] = l1.fit_transform(y[:,-1])\n"
   ]
  },
  {
   "cell_type": "code",
   "execution_count": 12,
   "id": "0478203a",
   "metadata": {
    "execution": {
     "iopub.execute_input": "2022-12-11T09:33:59.095901Z",
     "iopub.status.busy": "2022-12-11T09:33:59.095452Z",
     "iopub.status.idle": "2022-12-11T09:33:59.102578Z",
     "shell.execute_reply": "2022-12-11T09:33:59.101124Z"
    },
    "papermill": {
     "duration": 0.01853,
     "end_time": "2022-12-11T09:33:59.105132",
     "exception": false,
     "start_time": "2022-12-11T09:33:59.086602",
     "status": "completed"
    },
    "tags": []
   },
   "outputs": [],
   "source": [
    "sc = StandardScaler()\n",
    "x = sc.fit_transform(x)\n",
    "y=np.array(y,dtype=float)"
   ]
  },
  {
   "cell_type": "code",
   "execution_count": 13,
   "id": "5b1ffcbe",
   "metadata": {
    "execution": {
     "iopub.execute_input": "2022-12-11T09:33:59.121432Z",
     "iopub.status.busy": "2022-12-11T09:33:59.121066Z",
     "iopub.status.idle": "2022-12-11T09:33:59.127745Z",
     "shell.execute_reply": "2022-12-11T09:33:59.126341Z"
    },
    "papermill": {
     "duration": 0.017441,
     "end_time": "2022-12-11T09:33:59.130088",
     "exception": false,
     "start_time": "2022-12-11T09:33:59.112647",
     "status": "completed"
    },
    "tags": []
   },
   "outputs": [],
   "source": [
    "x_train,x_test,y_train,y_test = train_test_split(x,y,test_size = 0.2,random_state=0)\n"
   ]
  },
  {
   "cell_type": "code",
   "execution_count": 14,
   "id": "e65a5965",
   "metadata": {
    "execution": {
     "iopub.execute_input": "2022-12-11T09:33:59.146189Z",
     "iopub.status.busy": "2022-12-11T09:33:59.145649Z",
     "iopub.status.idle": "2022-12-11T09:33:59.156688Z",
     "shell.execute_reply": "2022-12-11T09:33:59.153766Z"
    },
    "papermill": {
     "duration": 0.022354,
     "end_time": "2022-12-11T09:33:59.159372",
     "exception": false,
     "start_time": "2022-12-11T09:33:59.137018",
     "status": "completed"
    },
    "tags": []
   },
   "outputs": [
    {
     "name": "stdout",
     "output_type": "stream",
     "text": [
      "[[0.]\n",
      " [0.]\n",
      " [0.]\n",
      " [0.]\n",
      " [0.]\n",
      " [0.]\n",
      " [0.]\n",
      " [0.]\n",
      " [0.]\n",
      " [0.]\n",
      " [0.]\n",
      " [0.]\n",
      " [0.]\n",
      " [0.]\n",
      " [0.]\n",
      " [0.]\n",
      " [0.]\n",
      " [0.]\n",
      " [0.]\n",
      " [0.]\n",
      " [0.]\n",
      " [0.]\n",
      " [0.]\n",
      " [0.]\n",
      " [0.]\n",
      " [0.]\n",
      " [0.]\n",
      " [0.]\n",
      " [0.]\n",
      " [0.]\n",
      " [0.]\n",
      " [0.]\n",
      " [0.]\n",
      " [0.]\n",
      " [0.]\n",
      " [0.]\n",
      " [0.]\n",
      " [0.]\n",
      " [0.]\n",
      " [0.]\n",
      " [0.]\n",
      " [0.]\n",
      " [0.]\n",
      " [0.]\n",
      " [0.]\n",
      " [0.]\n",
      " [0.]\n",
      " [0.]\n",
      " [0.]\n",
      " [0.]\n",
      " [1.]\n",
      " [1.]\n",
      " [1.]\n",
      " [1.]\n",
      " [1.]\n",
      " [1.]\n",
      " [1.]\n",
      " [1.]\n",
      " [1.]\n",
      " [1.]\n",
      " [1.]\n",
      " [1.]\n",
      " [1.]\n",
      " [1.]\n",
      " [1.]\n",
      " [1.]\n",
      " [1.]\n",
      " [1.]\n",
      " [1.]\n",
      " [1.]\n",
      " [1.]\n",
      " [1.]\n",
      " [1.]\n",
      " [1.]\n",
      " [1.]\n",
      " [1.]\n",
      " [1.]\n",
      " [1.]\n",
      " [1.]\n",
      " [1.]\n",
      " [1.]\n",
      " [1.]\n",
      " [1.]\n",
      " [1.]\n",
      " [1.]\n",
      " [1.]\n",
      " [1.]\n",
      " [1.]\n",
      " [1.]\n",
      " [1.]\n",
      " [1.]\n",
      " [1.]\n",
      " [1.]\n",
      " [1.]\n",
      " [1.]\n",
      " [1.]\n",
      " [1.]\n",
      " [1.]\n",
      " [1.]\n",
      " [1.]\n",
      " [2.]\n",
      " [2.]\n",
      " [2.]\n",
      " [2.]\n",
      " [2.]\n",
      " [2.]\n",
      " [2.]\n",
      " [2.]\n",
      " [2.]\n",
      " [2.]\n",
      " [2.]\n",
      " [2.]\n",
      " [2.]\n",
      " [2.]\n",
      " [2.]\n",
      " [2.]\n",
      " [2.]\n",
      " [2.]\n",
      " [2.]\n",
      " [2.]\n",
      " [2.]\n",
      " [2.]\n",
      " [2.]\n",
      " [2.]\n",
      " [2.]\n",
      " [2.]\n",
      " [2.]\n",
      " [2.]\n",
      " [2.]\n",
      " [2.]\n",
      " [2.]\n",
      " [2.]\n",
      " [2.]\n",
      " [2.]\n",
      " [2.]\n",
      " [2.]\n",
      " [2.]\n",
      " [2.]\n",
      " [2.]\n",
      " [2.]\n",
      " [2.]\n",
      " [2.]\n",
      " [2.]\n",
      " [2.]\n",
      " [2.]\n",
      " [2.]\n",
      " [2.]\n",
      " [2.]\n",
      " [2.]\n",
      " [2.]]\n"
     ]
    }
   ],
   "source": [
    "print(y)"
   ]
  },
  {
   "cell_type": "markdown",
   "id": "90403255",
   "metadata": {
    "papermill": {
     "duration": 0.006624,
     "end_time": "2022-12-11T09:33:59.173072",
     "exception": false,
     "start_time": "2022-12-11T09:33:59.166448",
     "status": "completed"
    },
    "tags": []
   },
   "source": [
    "Modeling using RandomForest algorithm"
   ]
  },
  {
   "cell_type": "code",
   "execution_count": 15,
   "id": "286bc2fc",
   "metadata": {
    "execution": {
     "iopub.execute_input": "2022-12-11T09:33:59.189027Z",
     "iopub.status.busy": "2022-12-11T09:33:59.188588Z",
     "iopub.status.idle": "2022-12-11T09:33:59.218843Z",
     "shell.execute_reply": "2022-12-11T09:33:59.217053Z"
    },
    "papermill": {
     "duration": 0.042689,
     "end_time": "2022-12-11T09:33:59.222657",
     "exception": false,
     "start_time": "2022-12-11T09:33:59.179968",
     "status": "completed"
    },
    "tags": []
   },
   "outputs": [
    {
     "name": "stderr",
     "output_type": "stream",
     "text": [
      "/opt/conda/lib/python3.7/site-packages/ipykernel_launcher.py:2: DataConversionWarning: A column-vector y was passed when a 1d array was expected. Please change the shape of y to (n_samples,), for example using ravel().\n",
      "  \n"
     ]
    },
    {
     "data": {
      "text/plain": [
       "RandomForestClassifier(n_estimators=10, random_state=0)"
      ]
     },
     "execution_count": 15,
     "metadata": {},
     "output_type": "execute_result"
    }
   ],
   "source": [
    "classifier = RandomForestClassifier(n_estimators=10,random_state=0)\n",
    "classifier.fit(x_train,y_train)"
   ]
  },
  {
   "cell_type": "code",
   "execution_count": 16,
   "id": "cb90185b",
   "metadata": {
    "execution": {
     "iopub.execute_input": "2022-12-11T09:33:59.239381Z",
     "iopub.status.busy": "2022-12-11T09:33:59.239006Z",
     "iopub.status.idle": "2022-12-11T09:33:59.246293Z",
     "shell.execute_reply": "2022-12-11T09:33:59.244278Z"
    },
    "papermill": {
     "duration": 0.019282,
     "end_time": "2022-12-11T09:33:59.249582",
     "exception": false,
     "start_time": "2022-12-11T09:33:59.230300",
     "status": "completed"
    },
    "tags": []
   },
   "outputs": [
    {
     "name": "stdout",
     "output_type": "stream",
     "text": [
      "[[2.]\n",
      " [1.]\n",
      " [0.]\n",
      " [2.]\n",
      " [0.]\n",
      " [2.]\n",
      " [0.]\n",
      " [1.]\n",
      " [1.]\n",
      " [1.]\n",
      " [2.]\n",
      " [1.]\n",
      " [1.]\n",
      " [1.]\n",
      " [1.]\n",
      " [0.]\n",
      " [1.]\n",
      " [1.]\n",
      " [0.]\n",
      " [0.]\n",
      " [2.]\n",
      " [1.]\n",
      " [0.]\n",
      " [0.]\n",
      " [2.]\n",
      " [0.]\n",
      " [0.]\n",
      " [1.]\n",
      " [1.]\n",
      " [0.]]\n"
     ]
    }
   ],
   "source": [
    "print(y_test)"
   ]
  },
  {
   "cell_type": "code",
   "execution_count": 17,
   "id": "d9caafa4",
   "metadata": {
    "execution": {
     "iopub.execute_input": "2022-12-11T09:33:59.267471Z",
     "iopub.status.busy": "2022-12-11T09:33:59.266785Z",
     "iopub.status.idle": "2022-12-11T09:33:59.280202Z",
     "shell.execute_reply": "2022-12-11T09:33:59.277829Z"
    },
    "papermill": {
     "duration": 0.025313,
     "end_time": "2022-12-11T09:33:59.282956",
     "exception": false,
     "start_time": "2022-12-11T09:33:59.257643",
     "status": "completed"
    },
    "tags": []
   },
   "outputs": [
    {
     "name": "stdout",
     "output_type": "stream",
     "text": [
      "Accuracy is 96.66666666666667\n"
     ]
    },
    {
     "name": "stderr",
     "output_type": "stream",
     "text": [
      "/opt/conda/lib/python3.7/site-packages/sklearn/preprocessing/_label.py:154: DataConversionWarning: A column-vector y was passed when a 1d array was expected. Please change the shape of y to (n_samples, ), for example using ravel().\n",
      "  y = column_or_1d(y, warn=True)\n"
     ]
    }
   ],
   "source": [
    "y_pred = l1.inverse_transform(np.array(classifier.predict(x_test),dtype=int))\n",
    "y_test = l1.inverse_transform(np.array(y_test,dtype=int))\n",
    "flower_accuracy = accuracy_score(y_pred,y_test)\n",
    "print(\"Accuracy is \"+str(flower_accuracy*100))"
   ]
  },
  {
   "cell_type": "code",
   "execution_count": 18,
   "id": "9d2f6352",
   "metadata": {
    "execution": {
     "iopub.execute_input": "2022-12-11T09:33:59.300735Z",
     "iopub.status.busy": "2022-12-11T09:33:59.300297Z",
     "iopub.status.idle": "2022-12-11T09:33:59.309892Z",
     "shell.execute_reply": "2022-12-11T09:33:59.308878Z"
    },
    "papermill": {
     "duration": 0.021664,
     "end_time": "2022-12-11T09:33:59.312634",
     "exception": false,
     "start_time": "2022-12-11T09:33:59.290970",
     "status": "completed"
    },
    "tags": []
   },
   "outputs": [
    {
     "name": "stdout",
     "output_type": "stream",
     "text": [
      "Confusion matrix: \n",
      "[[11  0  0]\n",
      " [ 0 13  0]\n",
      " [ 0  1  5]]\n"
     ]
    }
   ],
   "source": [
    "from sklearn.metrics import confusion_matrix\n",
    "cm = confusion_matrix(y_test,y_pred)\n",
    "print(\"Confusion matrix: \",end='\\n')\n",
    "print(cm)"
   ]
  },
  {
   "cell_type": "code",
   "execution_count": null,
   "id": "2f0794d3",
   "metadata": {
    "papermill": {
     "duration": 0.007413,
     "end_time": "2022-12-11T09:33:59.328241",
     "exception": false,
     "start_time": "2022-12-11T09:33:59.320828",
     "status": "completed"
    },
    "tags": []
   },
   "outputs": [],
   "source": []
  }
 ],
 "metadata": {
  "kernelspec": {
   "display_name": "Python 3",
   "language": "python",
   "name": "python3"
  },
  "language_info": {
   "codemirror_mode": {
    "name": "ipython",
    "version": 3
   },
   "file_extension": ".py",
   "mimetype": "text/x-python",
   "name": "python",
   "nbconvert_exporter": "python",
   "pygments_lexer": "ipython3",
   "version": "3.7.12"
  },
  "papermill": {
   "default_parameters": {},
   "duration": 13.113104,
   "end_time": "2022-12-11T09:34:00.363980",
   "environment_variables": {},
   "exception": null,
   "input_path": "__notebook__.ipynb",
   "output_path": "__notebook__.ipynb",
   "parameters": {},
   "start_time": "2022-12-11T09:33:47.250876",
   "version": "2.3.4"
  }
 },
 "nbformat": 4,
 "nbformat_minor": 5
}
