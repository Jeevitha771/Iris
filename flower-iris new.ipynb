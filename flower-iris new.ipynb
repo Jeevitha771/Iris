{
 "cells": [
  {
   "cell_type": "markdown",
   "id": "5fc88b4b",
   "metadata": {
    "papermill": {
     "duration": 0.013348,
     "end_time": "2023-09-06T17:11:41.939971",
     "exception": false,
     "start_time": "2023-09-06T17:11:41.926623",
     "status": "completed"
    },
    "tags": []
   },
   "source": [
    "**This is a Simple Data Analysis work.We use #Iris Dataset. Import the required libraries**"
   ]
  },
  {
   "cell_type": "code",
   "execution_count": 1,
   "id": "fae40cf8",
   "metadata": {
    "execution": {
     "iopub.execute_input": "2023-09-06T17:11:41.966628Z",
     "iopub.status.busy": "2023-09-06T17:11:41.965813Z",
     "iopub.status.idle": "2023-09-06T17:11:43.424295Z",
     "shell.execute_reply": "2023-09-06T17:11:43.423156Z"
    },
    "papermill": {
     "duration": 1.475628,
     "end_time": "2023-09-06T17:11:43.427653",
     "exception": false,
     "start_time": "2023-09-06T17:11:41.952025",
     "status": "completed"
    },
    "tags": []
   },
   "outputs": [],
   "source": [
    "import numpy as np\n",
    "import pandas as pd\n",
    "import matplotlib.pyplot as plt\n",
    "import sklearn\n",
    "import seaborn as sns\n",
    "%matplotlib inline"
   ]
  },
  {
   "cell_type": "code",
   "execution_count": 2,
   "id": "f187b8f4",
   "metadata": {
    "execution": {
     "iopub.execute_input": "2023-09-06T17:11:43.452997Z",
     "iopub.status.busy": "2023-09-06T17:11:43.452543Z",
     "iopub.status.idle": "2023-09-06T17:11:43.480732Z",
     "shell.execute_reply": "2023-09-06T17:11:43.479432Z"
    },
    "papermill": {
     "duration": 0.044288,
     "end_time": "2023-09-06T17:11:43.483852",
     "exception": false,
     "start_time": "2023-09-06T17:11:43.439564",
     "status": "completed"
    },
    "tags": []
   },
   "outputs": [],
   "source": [
    "dataset = pd.read_csv(\"../input/iris-data-set-for-beginners/iris.csv\", index_col=0)"
   ]
  },
  {
   "cell_type": "code",
   "execution_count": 3,
   "id": "5fca46ce",
   "metadata": {
    "execution": {
     "iopub.execute_input": "2023-09-06T17:11:43.510007Z",
     "iopub.status.busy": "2023-09-06T17:11:43.509511Z",
     "iopub.status.idle": "2023-09-06T17:11:43.532218Z",
     "shell.execute_reply": "2023-09-06T17:11:43.531000Z"
    },
    "papermill": {
     "duration": 0.039567,
     "end_time": "2023-09-06T17:11:43.535624",
     "exception": false,
     "start_time": "2023-09-06T17:11:43.496057",
     "status": "completed"
    },
    "tags": []
   },
   "outputs": [
    {
     "data": {
      "text/html": [
       "<div>\n",
       "<style scoped>\n",
       "    .dataframe tbody tr th:only-of-type {\n",
       "        vertical-align: middle;\n",
       "    }\n",
       "\n",
       "    .dataframe tbody tr th {\n",
       "        vertical-align: top;\n",
       "    }\n",
       "\n",
       "    .dataframe thead th {\n",
       "        text-align: right;\n",
       "    }\n",
       "</style>\n",
       "<table border=\"1\" class=\"dataframe\">\n",
       "  <thead>\n",
       "    <tr style=\"text-align: right;\">\n",
       "      <th></th>\n",
       "      <th>Sepal.Length</th>\n",
       "      <th>Sepal.Width</th>\n",
       "      <th>Petal.Length</th>\n",
       "      <th>Petal.Width</th>\n",
       "      <th>Species</th>\n",
       "    </tr>\n",
       "  </thead>\n",
       "  <tbody>\n",
       "    <tr>\n",
       "      <th>1</th>\n",
       "      <td>5.1</td>\n",
       "      <td>3.5</td>\n",
       "      <td>1.4</td>\n",
       "      <td>0.2</td>\n",
       "      <td>setosa</td>\n",
       "    </tr>\n",
       "    <tr>\n",
       "      <th>2</th>\n",
       "      <td>4.9</td>\n",
       "      <td>3.0</td>\n",
       "      <td>1.4</td>\n",
       "      <td>0.2</td>\n",
       "      <td>setosa</td>\n",
       "    </tr>\n",
       "    <tr>\n",
       "      <th>3</th>\n",
       "      <td>4.7</td>\n",
       "      <td>3.2</td>\n",
       "      <td>1.3</td>\n",
       "      <td>0.2</td>\n",
       "      <td>setosa</td>\n",
       "    </tr>\n",
       "    <tr>\n",
       "      <th>4</th>\n",
       "      <td>4.6</td>\n",
       "      <td>3.1</td>\n",
       "      <td>1.5</td>\n",
       "      <td>0.2</td>\n",
       "      <td>setosa</td>\n",
       "    </tr>\n",
       "    <tr>\n",
       "      <th>5</th>\n",
       "      <td>5.0</td>\n",
       "      <td>3.6</td>\n",
       "      <td>1.4</td>\n",
       "      <td>0.2</td>\n",
       "      <td>setosa</td>\n",
       "    </tr>\n",
       "  </tbody>\n",
       "</table>\n",
       "</div>"
      ],
      "text/plain": [
       "   Sepal.Length  Sepal.Width  Petal.Length  Petal.Width Species\n",
       "1           5.1          3.5           1.4          0.2  setosa\n",
       "2           4.9          3.0           1.4          0.2  setosa\n",
       "3           4.7          3.2           1.3          0.2  setosa\n",
       "4           4.6          3.1           1.5          0.2  setosa\n",
       "5           5.0          3.6           1.4          0.2  setosa"
      ]
     },
     "execution_count": 3,
     "metadata": {},
     "output_type": "execute_result"
    }
   ],
   "source": [
    "dataset.head()"
   ]
  },
  {
   "cell_type": "code",
   "execution_count": 4,
   "id": "a13254a4",
   "metadata": {
    "execution": {
     "iopub.execute_input": "2023-09-06T17:11:43.563807Z",
     "iopub.status.busy": "2023-09-06T17:11:43.562927Z",
     "iopub.status.idle": "2023-09-06T17:11:43.582174Z",
     "shell.execute_reply": "2023-09-06T17:11:43.581238Z"
    },
    "papermill": {
     "duration": 0.035632,
     "end_time": "2023-09-06T17:11:43.584938",
     "exception": false,
     "start_time": "2023-09-06T17:11:43.549306",
     "status": "completed"
    },
    "tags": []
   },
   "outputs": [
    {
     "name": "stdout",
     "output_type": "stream",
     "text": [
      "<class 'pandas.core.frame.DataFrame'>\n",
      "Int64Index: 150 entries, 1 to 150\n",
      "Data columns (total 5 columns):\n",
      " #   Column        Non-Null Count  Dtype  \n",
      "---  ------        --------------  -----  \n",
      " 0   Sepal.Length  150 non-null    float64\n",
      " 1   Sepal.Width   150 non-null    float64\n",
      " 2   Petal.Length  150 non-null    float64\n",
      " 3   Petal.Width   150 non-null    float64\n",
      " 4   Species       150 non-null    object \n",
      "dtypes: float64(4), object(1)\n",
      "memory usage: 7.0+ KB\n"
     ]
    }
   ],
   "source": [
    "dataset.info()"
   ]
  },
  {
   "cell_type": "code",
   "execution_count": 5,
   "id": "94fc6a2b",
   "metadata": {
    "execution": {
     "iopub.execute_input": "2023-09-06T17:11:43.612791Z",
     "iopub.status.busy": "2023-09-06T17:11:43.611418Z",
     "iopub.status.idle": "2023-09-06T17:11:43.642055Z",
     "shell.execute_reply": "2023-09-06T17:11:43.640448Z"
    },
    "papermill": {
     "duration": 0.047309,
     "end_time": "2023-09-06T17:11:43.644886",
     "exception": false,
     "start_time": "2023-09-06T17:11:43.597577",
     "status": "completed"
    },
    "tags": []
   },
   "outputs": [
    {
     "data": {
      "text/html": [
       "<div>\n",
       "<style scoped>\n",
       "    .dataframe tbody tr th:only-of-type {\n",
       "        vertical-align: middle;\n",
       "    }\n",
       "\n",
       "    .dataframe tbody tr th {\n",
       "        vertical-align: top;\n",
       "    }\n",
       "\n",
       "    .dataframe thead th {\n",
       "        text-align: right;\n",
       "    }\n",
       "</style>\n",
       "<table border=\"1\" class=\"dataframe\">\n",
       "  <thead>\n",
       "    <tr style=\"text-align: right;\">\n",
       "      <th></th>\n",
       "      <th>Sepal.Length</th>\n",
       "      <th>Sepal.Width</th>\n",
       "      <th>Petal.Length</th>\n",
       "      <th>Petal.Width</th>\n",
       "    </tr>\n",
       "  </thead>\n",
       "  <tbody>\n",
       "    <tr>\n",
       "      <th>count</th>\n",
       "      <td>150.000000</td>\n",
       "      <td>150.000000</td>\n",
       "      <td>150.000000</td>\n",
       "      <td>150.000000</td>\n",
       "    </tr>\n",
       "    <tr>\n",
       "      <th>mean</th>\n",
       "      <td>5.843333</td>\n",
       "      <td>3.057333</td>\n",
       "      <td>3.758000</td>\n",
       "      <td>1.199333</td>\n",
       "    </tr>\n",
       "    <tr>\n",
       "      <th>std</th>\n",
       "      <td>0.828066</td>\n",
       "      <td>0.435866</td>\n",
       "      <td>1.765298</td>\n",
       "      <td>0.762238</td>\n",
       "    </tr>\n",
       "    <tr>\n",
       "      <th>min</th>\n",
       "      <td>4.300000</td>\n",
       "      <td>2.000000</td>\n",
       "      <td>1.000000</td>\n",
       "      <td>0.100000</td>\n",
       "    </tr>\n",
       "    <tr>\n",
       "      <th>25%</th>\n",
       "      <td>5.100000</td>\n",
       "      <td>2.800000</td>\n",
       "      <td>1.600000</td>\n",
       "      <td>0.300000</td>\n",
       "    </tr>\n",
       "    <tr>\n",
       "      <th>50%</th>\n",
       "      <td>5.800000</td>\n",
       "      <td>3.000000</td>\n",
       "      <td>4.350000</td>\n",
       "      <td>1.300000</td>\n",
       "    </tr>\n",
       "    <tr>\n",
       "      <th>75%</th>\n",
       "      <td>6.400000</td>\n",
       "      <td>3.300000</td>\n",
       "      <td>5.100000</td>\n",
       "      <td>1.800000</td>\n",
       "    </tr>\n",
       "    <tr>\n",
       "      <th>max</th>\n",
       "      <td>7.900000</td>\n",
       "      <td>4.400000</td>\n",
       "      <td>6.900000</td>\n",
       "      <td>2.500000</td>\n",
       "    </tr>\n",
       "  </tbody>\n",
       "</table>\n",
       "</div>"
      ],
      "text/plain": [
       "       Sepal.Length  Sepal.Width  Petal.Length  Petal.Width\n",
       "count    150.000000   150.000000    150.000000   150.000000\n",
       "mean       5.843333     3.057333      3.758000     1.199333\n",
       "std        0.828066     0.435866      1.765298     0.762238\n",
       "min        4.300000     2.000000      1.000000     0.100000\n",
       "25%        5.100000     2.800000      1.600000     0.300000\n",
       "50%        5.800000     3.000000      4.350000     1.300000\n",
       "75%        6.400000     3.300000      5.100000     1.800000\n",
       "max        7.900000     4.400000      6.900000     2.500000"
      ]
     },
     "execution_count": 5,
     "metadata": {},
     "output_type": "execute_result"
    }
   ],
   "source": [
    "dataset.describe()"
   ]
  },
  {
   "cell_type": "markdown",
   "id": "0d9f514a",
   "metadata": {
    "execution": {
     "iopub.execute_input": "2023-09-06T16:02:16.868967Z",
     "iopub.status.busy": "2023-09-06T16:02:16.868498Z",
     "iopub.status.idle": "2023-09-06T16:02:17.059732Z",
     "shell.execute_reply": "2023-09-06T16:02:17.058862Z",
     "shell.execute_reply.started": "2023-09-06T16:02:16.868911Z"
    },
    "papermill": {
     "duration": 0.012468,
     "end_time": "2023-09-06T17:11:43.669864",
     "exception": false,
     "start_time": "2023-09-06T17:11:43.657396",
     "status": "completed"
    },
    "tags": []
   },
   "source": [
    "## Exploratory Data Analysis"
   ]
  },
  {
   "cell_type": "code",
   "execution_count": 6,
   "id": "b7f87759",
   "metadata": {
    "execution": {
     "iopub.execute_input": "2023-09-06T17:11:43.696724Z",
     "iopub.status.busy": "2023-09-06T17:11:43.696232Z",
     "iopub.status.idle": "2023-09-06T17:11:44.452698Z",
     "shell.execute_reply": "2023-09-06T17:11:44.451369Z"
    },
    "papermill": {
     "duration": 0.773929,
     "end_time": "2023-09-06T17:11:44.456111",
     "exception": false,
     "start_time": "2023-09-06T17:11:43.682182",
     "status": "completed"
    },
    "tags": []
   },
   "outputs": [
    {
     "data": {
      "text/plain": [
       "<seaborn.axisgrid.JointGrid at 0x7f10df6efd50>"
      ]
     },
     "execution_count": 6,
     "metadata": {},
     "output_type": "execute_result"
    },
    {
     "data": {
      "image/png": "[encoded data removed]",
      "text/plain": [
       "<Figure size 432x432 with 3 Axes>"
      ]
     },
     "metadata": {
      "needs_background": "light"
     },
     "output_type": "display_data"
    }
   ],
   "source": [
    "sns.jointplot(data = dataset, x='Sepal.Length', y='Sepal.Width',kind='scatter', hue = 'Species')"
   ]
  },
  {
   "cell_type": "markdown",
   "id": "5913a034",
   "metadata": {
    "papermill": {
     "duration": 0.012962,
     "end_time": "2023-09-06T17:11:44.482651",
     "exception": false,
     "start_time": "2023-09-06T17:11:44.469689",
     "status": "completed"
    },
    "tags": []
   },
   "source": [
    "Visualizing three catogories of flowers,that is  using one of the features petal length"
   ]
  },
  {
   "cell_type": "code",
   "execution_count": 7,
   "id": "af26ea29",
   "metadata": {
    "execution": {
     "iopub.execute_input": "2023-09-06T17:11:44.511915Z",
     "iopub.status.busy": "2023-09-06T17:11:44.511457Z",
     "iopub.status.idle": "2023-09-06T17:11:44.719620Z",
     "shell.execute_reply": "2023-09-06T17:11:44.718614Z"
    },
    "papermill": {
     "duration": 0.226451,
     "end_time": "2023-09-06T17:11:44.722409",
     "exception": false,
     "start_time": "2023-09-06T17:11:44.495958",
     "status": "completed"
    },
    "tags": []
   },
   "outputs": [
    {
     "data": {
      "text/plain": [
       "<AxesSubplot:xlabel='Species', ylabel='Petal.Length'>"
      ]
     },
     "execution_count": 7,
     "metadata": {},
     "output_type": "execute_result"
    },
    {
     "data": {
      "image/png": "[encoded data removed]",
      "text/plain": [
       "<Figure size 432x288 with 1 Axes>"
      ]
     },
     "metadata": {
      "needs_background": "light"
     },
     "output_type": "display_data"
    }
   ],
   "source": [
    "sns.boxplot(x=\"Species\",y=\"Petal.Length\",data = dataset)"
   ]
  },
  {
   "cell_type": "code",
   "execution_count": 8,
   "id": "e5d1045c",
   "metadata": {
    "execution": {
     "iopub.execute_input": "2023-09-06T17:11:44.754546Z",
     "iopub.status.busy": "2023-09-06T17:11:44.753314Z",
     "iopub.status.idle": "2023-09-06T17:11:48.486451Z",
     "shell.execute_reply": "2023-09-06T17:11:48.485459Z"
    },
    "papermill": {
     "duration": 3.753453,
     "end_time": "2023-09-06T17:11:48.489745",
     "exception": false,
     "start_time": "2023-09-06T17:11:44.736292",
     "status": "completed"
    },
    "tags": []
   },
   "outputs": [
    {
     "data": {
      "text/plain": [
       "<seaborn.axisgrid.PairGrid at 0x7f10d5076ad0>"
      ]
     },
     "execution_count": 8,
     "metadata": {},
     "output_type": "execute_result"
    },
    {
     "data": {
      "image/png": "[encoded data removed]",
      "text/plain": [
       "<Figure size 720x720 with 20 Axes>"
      ]
     },
     "metadata": {
      "needs_background": "light"
     },
     "output_type": "display_data"
    }
   ],
   "source": [
    "sns.pairplot(dataset)"
   ]
  },
  {
   "cell_type": "code",
   "execution_count": 9,
   "id": "b45ceb4a",
   "metadata": {
    "execution": {
     "iopub.execute_input": "2023-09-06T17:11:48.523564Z",
     "iopub.status.busy": "2023-09-06T17:11:48.522221Z",
     "iopub.status.idle": "2023-09-06T17:11:48.564968Z",
     "shell.execute_reply": "2023-09-06T17:11:48.563578Z"
    },
    "papermill": {
     "duration": 0.062874,
     "end_time": "2023-09-06T17:11:48.568221",
     "exception": false,
     "start_time": "2023-09-06T17:11:48.505347",
     "status": "completed"
    },
    "tags": []
   },
   "outputs": [],
   "source": [
    "x = dataset.drop('Species', axis=1)\n",
    "y1=dataset['Species']\n",
    "from sklearn.preprocessing import LabelEncoder\n",
    "le = LabelEncoder()\n",
    "le.fit(y1)\n",
    "y = le.transform(y1)"
   ]
  },
  {
   "cell_type": "code",
   "execution_count": 10,
   "id": "ebb8d6b8",
   "metadata": {
    "execution": {
     "iopub.execute_input": "2023-09-06T17:11:48.601785Z",
     "iopub.status.busy": "2023-09-06T17:11:48.600397Z",
     "iopub.status.idle": "2023-09-06T17:11:48.608917Z",
     "shell.execute_reply": "2023-09-06T17:11:48.607953Z"
    },
    "papermill": {
     "duration": 0.027793,
     "end_time": "2023-09-06T17:11:48.611268",
     "exception": false,
     "start_time": "2023-09-06T17:11:48.583475",
     "status": "completed"
    },
    "tags": []
   },
   "outputs": [
    {
     "data": {
      "text/plain": [
       "array([0, 0, 0, 0, 0, 0, 0, 0, 0, 0, 0, 0, 0, 0, 0, 0, 0, 0, 0, 0, 0, 0,\n",
       "       0, 0, 0, 0, 0, 0, 0, 0, 0, 0, 0, 0, 0, 0, 0, 0, 0, 0, 0, 0, 0, 0,\n",
       "       0, 0, 0, 0, 0, 0, 1, 1, 1, 1, 1, 1, 1, 1, 1, 1, 1, 1, 1, 1, 1, 1,\n",
       "       1, 1, 1, 1, 1, 1, 1, 1, 1, 1, 1, 1, 1, 1, 1, 1, 1, 1, 1, 1, 1, 1,\n",
       "       1, 1, 1, 1, 1, 1, 1, 1, 1, 1, 1, 1, 2, 2, 2, 2, 2, 2, 2, 2, 2, 2,\n",
       "       2, 2, 2, 2, 2, 2, 2, 2, 2, 2, 2, 2, 2, 2, 2, 2, 2, 2, 2, 2, 2, 2,\n",
       "       2, 2, 2, 2, 2, 2, 2, 2, 2, 2, 2, 2, 2, 2, 2, 2, 2, 2])"
      ]
     },
     "execution_count": 10,
     "metadata": {},
     "output_type": "execute_result"
    }
   ],
   "source": [
    "y"
   ]
  },
  {
   "cell_type": "code",
   "execution_count": 11,
   "id": "f6112164",
   "metadata": {
    "execution": {
     "iopub.execute_input": "2023-09-06T17:11:48.644456Z",
     "iopub.status.busy": "2023-09-06T17:11:48.643710Z",
     "iopub.status.idle": "2023-09-06T17:11:48.714505Z",
     "shell.execute_reply": "2023-09-06T17:11:48.713515Z"
    },
    "papermill": {
     "duration": 0.090761,
     "end_time": "2023-09-06T17:11:48.717431",
     "exception": false,
     "start_time": "2023-09-06T17:11:48.626670",
     "status": "completed"
    },
    "tags": []
   },
   "outputs": [],
   "source": [
    "from sklearn.model_selection import train_test_split\n",
    "x_train, x_test, y_train, y_test = train_test_split(x, y, test_size=0.3, random_state=101)"
   ]
  },
  {
   "cell_type": "markdown",
   "id": "3a5930e8",
   "metadata": {
    "papermill": {
     "duration": 0.015279,
     "end_time": "2023-09-06T17:11:48.748376",
     "exception": false,
     "start_time": "2023-09-06T17:11:48.733097",
     "status": "completed"
    },
    "tags": []
   },
   "source": [
    "### KNN"
   ]
  },
  {
   "cell_type": "code",
   "execution_count": 12,
   "id": "b93fd102",
   "metadata": {
    "execution": {
     "iopub.execute_input": "2023-09-06T17:11:48.782764Z",
     "iopub.status.busy": "2023-09-06T17:11:48.781490Z",
     "iopub.status.idle": "2023-09-06T17:11:48.941289Z",
     "shell.execute_reply": "2023-09-06T17:11:48.939915Z"
    },
    "papermill": {
     "duration": 0.180117,
     "end_time": "2023-09-06T17:11:48.944153",
     "exception": false,
     "start_time": "2023-09-06T17:11:48.764036",
     "status": "completed"
    },
    "tags": []
   },
   "outputs": [
    {
     "data": {
      "text/plain": [
       "KNeighborsClassifier(n_neighbors=6)"
      ]
     },
     "execution_count": 12,
     "metadata": {},
     "output_type": "execute_result"
    }
   ],
   "source": [
    "from sklearn.neighbors import KNeighborsClassifier\n",
    "knn = KNeighborsClassifier(n_neighbors=6)\n",
    "knn.fit(x_train,y_train)"
   ]
  },
  {
   "cell_type": "code",
   "execution_count": 13,
   "id": "dd34195e",
   "metadata": {
    "execution": {
     "iopub.execute_input": "2023-09-06T17:11:48.977383Z",
     "iopub.status.busy": "2023-09-06T17:11:48.976981Z",
     "iopub.status.idle": "2023-09-06T17:11:48.987749Z",
     "shell.execute_reply": "2023-09-06T17:11:48.986396Z"
    },
    "papermill": {
     "duration": 0.030995,
     "end_time": "2023-09-06T17:11:48.990687",
     "exception": false,
     "start_time": "2023-09-06T17:11:48.959692",
     "status": "completed"
    },
    "tags": []
   },
   "outputs": [],
   "source": [
    "pred = knn.predict(x_test)"
   ]
  },
  {
   "cell_type": "code",
   "execution_count": 14,
   "id": "806bd7eb",
   "metadata": {
    "execution": {
     "iopub.execute_input": "2023-09-06T17:11:49.024293Z",
     "iopub.status.busy": "2023-09-06T17:11:49.023873Z",
     "iopub.status.idle": "2023-09-06T17:11:49.038852Z",
     "shell.execute_reply": "2023-09-06T17:11:49.037121Z"
    },
    "papermill": {
     "duration": 0.035024,
     "end_time": "2023-09-06T17:11:49.041654",
     "exception": false,
     "start_time": "2023-09-06T17:11:49.006630",
     "status": "completed"
    },
    "tags": []
   },
   "outputs": [
    {
     "name": "stdout",
     "output_type": "stream",
     "text": [
      "[[13  0  0]\n",
      " [ 0 20  0]\n",
      " [ 0  0 12]]\n",
      "\n",
      "\n",
      "              precision    recall  f1-score   support\n",
      "\n",
      "           0       1.00      1.00      1.00        13\n",
      "           1       1.00      1.00      1.00        20\n",
      "           2       1.00      1.00      1.00        12\n",
      "\n",
      "    accuracy                           1.00        45\n",
      "   macro avg       1.00      1.00      1.00        45\n",
      "weighted avg       1.00      1.00      1.00        45\n",
      "\n"
     ]
    }
   ],
   "source": [
    "from sklearn.metrics import confusion_matrix, classification_report\n",
    "print(confusion_matrix(y_test,pred))\n",
    "print(\"\\n\")\n",
    "print(classification_report(y_test,pred))"
   ]
  },
  {
   "cell_type": "code",
   "execution_count": 15,
   "id": "5f461133",
   "metadata": {
    "execution": {
     "iopub.execute_input": "2023-09-06T17:11:49.076344Z",
     "iopub.status.busy": "2023-09-06T17:11:49.075924Z",
     "iopub.status.idle": "2023-09-06T17:11:49.482228Z",
     "shell.execute_reply": "2023-09-06T17:11:49.480896Z"
    },
    "papermill": {
     "duration": 0.42733,
     "end_time": "2023-09-06T17:11:49.485251",
     "exception": false,
     "start_time": "2023-09-06T17:11:49.057921",
     "status": "completed"
    },
    "tags": []
   },
   "outputs": [],
   "source": [
    "#Choosing the better k value using elbow method:\n",
    "error_rate=[]\n",
    "for i in range(1,70):\n",
    "    knn = KNeighborsClassifier(n_neighbors=i)\n",
    "    knn.fit(x_train, y_train)\n",
    "    k_pred = knn.predict(x_test)\n",
    "    error_rate.append(np.mean(k_pred!=y_test))"
   ]
  },
  {
   "cell_type": "code",
   "execution_count": 16,
   "id": "6cda68aa",
   "metadata": {
    "execution": {
     "iopub.execute_input": "2023-09-06T17:11:49.519259Z",
     "iopub.status.busy": "2023-09-06T17:11:49.518825Z",
     "iopub.status.idle": "2023-09-06T17:11:49.752188Z",
     "shell.execute_reply": "2023-09-06T17:11:49.750869Z"
    },
    "papermill": {
     "duration": 0.254092,
     "end_time": "2023-09-06T17:11:49.755263",
     "exception": false,
     "start_time": "2023-09-06T17:11:49.501171",
     "status": "completed"
    },
    "tags": []
   },
   "outputs": [
    {
     "data": {
      "text/plain": [
       "Text(0, 0.5, 'Error rate')"
      ]
     },
     "execution_count": 16,
     "metadata": {},
     "output_type": "execute_result"
    },
    {
     "data": {
      "image/png": "[encoded data removed]",
      "text/plain": [
       "<Figure size 720x432 with 1 Axes>"
      ]
     },
     "metadata": {
      "needs_background": "light"
     },
     "output_type": "display_data"
    }
   ],
   "source": [
    "plt.figure(figsize=(10,6))\n",
    "plt.plot(range(1,70),error_rate,marker='o',markerfacecolor='red',linestyle='-',color='green' )\n",
    "plt.title('Error Rate vs K Value')\n",
    "plt.xlabel('K')\n",
    "plt.ylabel('Error rate')"
   ]
  },
  {
   "cell_type": "markdown",
   "id": "b3ac5d4d",
   "metadata": {
    "papermill": {
     "duration": 0.016348,
     "end_time": "2023-09-06T17:11:49.787976",
     "exception": false,
     "start_time": "2023-09-06T17:11:49.771628",
     "status": "completed"
    },
    "tags": []
   },
   "source": [
    "##### We can observe that k value is good around 1 hence we got better results above also kvalue around 1,3,5,6,9,10 almost gives best results"
   ]
  },
  {
   "cell_type": "markdown",
   "id": "ba6dc779",
   "metadata": {
    "papermill": {
     "duration": 0.015999,
     "end_time": "2023-09-06T17:11:49.820240",
     "exception": false,
     "start_time": "2023-09-06T17:11:49.804241",
     "status": "completed"
    },
    "tags": []
   },
   "source": [
    "### SVC"
   ]
  },
  {
   "cell_type": "code",
   "execution_count": 17,
   "id": "41304134",
   "metadata": {
    "execution": {
     "iopub.execute_input": "2023-09-06T17:11:49.854667Z",
     "iopub.status.busy": "2023-09-06T17:11:49.854131Z",
     "iopub.status.idle": "2023-09-06T17:11:49.865780Z",
     "shell.execute_reply": "2023-09-06T17:11:49.864864Z"
    },
    "papermill": {
     "duration": 0.031914,
     "end_time": "2023-09-06T17:11:49.868349",
     "exception": false,
     "start_time": "2023-09-06T17:11:49.836435",
     "status": "completed"
    },
    "tags": []
   },
   "outputs": [],
   "source": [
    "from sklearn.svm import SVC\n",
    "svc_model = SVC()\n",
    "svc_model.fit(x_train,y_train)\n",
    "s_pred = svc_model.predict(x_test)"
   ]
  },
  {
   "cell_type": "code",
   "execution_count": 18,
   "id": "b799bbf3",
   "metadata": {
    "execution": {
     "iopub.execute_input": "2023-09-06T17:11:49.903243Z",
     "iopub.status.busy": "2023-09-06T17:11:49.902254Z",
     "iopub.status.idle": "2023-09-06T17:11:49.915110Z",
     "shell.execute_reply": "2023-09-06T17:11:49.913606Z"
    },
    "papermill": {
     "duration": 0.033469,
     "end_time": "2023-09-06T17:11:49.917988",
     "exception": false,
     "start_time": "2023-09-06T17:11:49.884519",
     "status": "completed"
    },
    "tags": []
   },
   "outputs": [
    {
     "name": "stdout",
     "output_type": "stream",
     "text": [
      "[[13  0  0]\n",
      " [ 0 19  1]\n",
      " [ 0  0 12]]\n",
      "\n",
      "\n",
      "              precision    recall  f1-score   support\n",
      "\n",
      "           0       1.00      1.00      1.00        13\n",
      "           1       1.00      0.95      0.97        20\n",
      "           2       0.92      1.00      0.96        12\n",
      "\n",
      "    accuracy                           0.98        45\n",
      "   macro avg       0.97      0.98      0.98        45\n",
      "weighted avg       0.98      0.98      0.98        45\n",
      "\n"
     ]
    }
   ],
   "source": [
    "print(confusion_matrix(y_test,s_pred))\n",
    "print(\"\\n\")\n",
    "print(classification_report(y_test, s_pred))"
   ]
  },
  {
   "cell_type": "markdown",
   "id": "6d670162",
   "metadata": {
    "papermill": {
     "duration": 0.016093,
     "end_time": "2023-09-06T17:11:49.950489",
     "exception": false,
     "start_time": "2023-09-06T17:11:49.934396",
     "status": "completed"
    },
    "tags": []
   },
   "source": [
    "##### choosing better c and gamma (hyperparameters) values using gridsearch"
   ]
  },
  {
   "cell_type": "code",
   "execution_count": 19,
   "id": "410c8fd5",
   "metadata": {
    "execution": {
     "iopub.execute_input": "2023-09-06T17:11:49.985186Z",
     "iopub.status.busy": "2023-09-06T17:11:49.984780Z",
     "iopub.status.idle": "2023-09-06T17:11:50.544140Z",
     "shell.execute_reply": "2023-09-06T17:11:50.542689Z"
    },
    "papermill": {
     "duration": 0.580405,
     "end_time": "2023-09-06T17:11:50.547198",
     "exception": false,
     "start_time": "2023-09-06T17:11:49.966793",
     "status": "completed"
    },
    "tags": []
   },
   "outputs": [
    {
     "name": "stdout",
     "output_type": "stream",
     "text": [
      "Fitting 5 folds for each of 20 candidates, totalling 100 fits\n",
      "[CV] END .....................................C=0.1, gamma=1; total time=   0.0s\n",
      "[CV] END .....................................C=0.1, gamma=1; total time=   0.0s\n",
      "[CV] END .....................................C=0.1, gamma=1; total time=   0.0s\n",
      "[CV] END .....................................C=0.1, gamma=1; total time=   0.0s\n",
      "[CV] END .....................................C=0.1, gamma=1; total time=   0.0s\n",
      "[CV] END ...................................C=0.1, gamma=0.1; total time=   0.0s\n",
      "[CV] END ...................................C=0.1, gamma=0.1; total time=   0.0s\n",
      "[CV] END ...................................C=0.1, gamma=0.1; total time=   0.0s\n",
      "[CV] END ...................................C=0.1, gamma=0.1; total time=   0.0s\n",
      "[CV] END ...................................C=0.1, gamma=0.1; total time=   0.0s\n",
      "[CV] END ..................................C=0.1, gamma=0.01; total time=   0.0s\n",
      "[CV] END ..................................C=0.1, gamma=0.01; total time=   0.0s\n",
      "[CV] END ..................................C=0.1, gamma=0.01; total time=   0.0s\n",
      "[CV] END ..................................C=0.1, gamma=0.01; total time=   0.0s\n",
      "[CV] END ..................................C=0.1, gamma=0.01; total time=   0.0s\n",
      "[CV] END .................................C=0.1, gamma=0.001; total time=   0.0s\n",
      "[CV] END .................................C=0.1, gamma=0.001; total time=   0.0s\n",
      "[CV] END .................................C=0.1, gamma=0.001; total time=   0.0s\n",
      "[CV] END .................................C=0.1, gamma=0.001; total time=   0.0s\n",
      "[CV] END .................................C=0.1, gamma=0.001; total time=   0.0s\n",
      "[CV] END ................................C=0.1, gamma=0.0001; total time=   0.0s\n",
      "[CV] END ................................C=0.1, gamma=0.0001; total time=   0.0s\n",
      "[CV] END ................................C=0.1, gamma=0.0001; total time=   0.0s\n",
      "[CV] END ................................C=0.1, gamma=0.0001; total time=   0.0s\n",
      "[CV] END ................................C=0.1, gamma=0.0001; total time=   0.0s\n",
      "[CV] END .......................................C=1, gamma=1; total time=   0.0s\n",
      "[CV] END .......................................C=1, gamma=1; total time=   0.0s\n",
      "[CV] END .......................................C=1, gamma=1; total time=   0.0s\n",
      "[CV] END .......................................C=1, gamma=1; total time=   0.0s\n",
      "[CV] END .......................................C=1, gamma=1; total time=   0.0s\n",
      "[CV] END .....................................C=1, gamma=0.1; total time=   0.0s\n",
      "[CV] END .....................................C=1, gamma=0.1; total time=   0.0s\n",
      "[CV] END .....................................C=1, gamma=0.1; total time=   0.0s\n",
      "[CV] END .....................................C=1, gamma=0.1; total time=   0.0s\n",
      "[CV] END .....................................C=1, gamma=0.1; total time=   0.0s\n",
      "[CV] END ....................................C=1, gamma=0.01; total time=   0.0s\n",
      "[CV] END ....................................C=1, gamma=0.01; total time=   0.0s\n",
      "[CV] END ....................................C=1, gamma=0.01; total time=   0.0s\n",
      "[CV] END ....................................C=1, gamma=0.01; total time=   0.0s\n",
      "[CV] END ....................................C=1, gamma=0.01; total time=   0.0s\n",
      "[CV] END ...................................C=1, gamma=0.001; total time=   0.0s\n",
      "[CV] END ...................................C=1, gamma=0.001; total time=   0.0s\n",
      "[CV] END ...................................C=1, gamma=0.001; total time=   0.0s\n",
      "[CV] END ...................................C=1, gamma=0.001; total time=   0.0s\n",
      "[CV] END ...................................C=1, gamma=0.001; total time=   0.0s\n",
      "[CV] END ..................................C=1, gamma=0.0001; total time=   0.0s\n",
      "[CV] END ..................................C=1, gamma=0.0001; total time=   0.0s\n",
      "[CV] END ..................................C=1, gamma=0.0001; total time=   0.0s\n",
      "[CV] END ..................................C=1, gamma=0.0001; total time=   0.0s\n",
      "[CV] END ..................................C=1, gamma=0.0001; total time=   0.0s\n",
      "[CV] END ......................................C=10, gamma=1; total time=   0.0s\n",
      "[CV] END ......................................C=10, gamma=1; total time=   0.0s\n",
      "[CV] END ......................................C=10, gamma=1; total time=   0.0s\n",
      "[CV] END ......................................C=10, gamma=1; total time=   0.0s\n",
      "[CV] END ......................................C=10, gamma=1; total time=   0.0s\n",
      "[CV] END ....................................C=10, gamma=0.1; total time=   0.0s\n",
      "[CV] END ....................................C=10, gamma=0.1; total time=   0.0s\n",
      "[CV] END ....................................C=10, gamma=0.1; total time=   0.0s\n",
      "[CV] END ....................................C=10, gamma=0.1; total time=   0.0s\n",
      "[CV] END ....................................C=10, gamma=0.1; total time=   0.0s\n",
      "[CV] END ...................................C=10, gamma=0.01; total time=   0.0s\n",
      "[CV] END ...................................C=10, gamma=0.01; total time=   0.0s\n",
      "[CV] END ...................................C=10, gamma=0.01; total time=   0.0s\n",
      "[CV] END ...................................C=10, gamma=0.01; total time=   0.0s\n",
      "[CV] END ...................................C=10, gamma=0.01; total time=   0.0s\n",
      "[CV] END ..................................C=10, gamma=0.001; total time=   0.0s\n",
      "[CV] END ..................................C=10, gamma=0.001; total time=   0.0s\n",
      "[CV] END ..................................C=10, gamma=0.001; total time=   0.0s\n",
      "[CV] END ..................................C=10, gamma=0.001; total time=   0.0s\n",
      "[CV] END ..................................C=10, gamma=0.001; total time=   0.0s\n",
      "[CV] END .................................C=10, gamma=0.0001; total time=   0.0s\n",
      "[CV] END .................................C=10, gamma=0.0001; total time=   0.0s\n",
      "[CV] END .................................C=10, gamma=0.0001; total time=   0.0s\n",
      "[CV] END .................................C=10, gamma=0.0001; total time=   0.0s\n",
      "[CV] END .................................C=10, gamma=0.0001; total time=   0.0s\n",
      "[CV] END .....................................C=100, gamma=1; total time=   0.0s\n",
      "[CV] END .....................................C=100, gamma=1; total time=   0.0s\n",
      "[CV] END .....................................C=100, gamma=1; total time=   0.0s\n",
      "[CV] END .....................................C=100, gamma=1; total time=   0.0s\n",
      "[CV] END .....................................C=100, gamma=1; total time=   0.0s\n",
      "[CV] END ...................................C=100, gamma=0.1; total time=   0.0s\n",
      "[CV] END ...................................C=100, gamma=0.1; total time=   0.0s\n",
      "[CV] END ...................................C=100, gamma=0.1; total time=   0.0s\n",
      "[CV] END ...................................C=100, gamma=0.1; total time=   0.0s\n",
      "[CV] END ...................................C=100, gamma=0.1; total time=   0.0s\n",
      "[CV] END ..................................C=100, gamma=0.01; total time=   0.0s\n",
      "[CV] END ..................................C=100, gamma=0.01; total time=   0.0s\n",
      "[CV] END ..................................C=100, gamma=0.01; total time=   0.0s\n",
      "[CV] END ..................................C=100, gamma=0.01; total time=   0.0s\n",
      "[CV] END ..................................C=100, gamma=0.01; total time=   0.0s\n",
      "[CV] END .................................C=100, gamma=0.001; total time=   0.0s\n",
      "[CV] END .................................C=100, gamma=0.001; total time=   0.0s\n",
      "[CV] END .................................C=100, gamma=0.001; total time=   0.0s\n",
      "[CV] END .................................C=100, gamma=0.001; total time=   0.0s\n",
      "[CV] END .................................C=100, gamma=0.001; total time=   0.0s\n",
      "[CV] END ................................C=100, gamma=0.0001; total time=   0.0s\n",
      "[CV] END ................................C=100, gamma=0.0001; total time=   0.0s\n",
      "[CV] END ................................C=100, gamma=0.0001; total time=   0.0s\n",
      "[CV] END ................................C=100, gamma=0.0001; total time=   0.0s\n",
      "[CV] END ................................C=100, gamma=0.0001; total time=   0.0s\n"
     ]
    },
    {
     "data": {
      "text/plain": [
       "GridSearchCV(estimator=SVC(),\n",
       "             param_grid={'C': [0.1, 1, 10, 100],\n",
       "                         'gamma': [1, 0.1, 0.01, 0.001, 0.0001]},\n",
       "             verbose=2)"
      ]
     },
     "execution_count": 19,
     "metadata": {},
     "output_type": "execute_result"
    }
   ],
   "source": [
    "from sklearn.model_selection import GridSearchCV\n",
    "params = {'C':[0.1,1,10,100],'gamma':[1,0.1,0.01,0.001,0.0001]}\n",
    "gs = GridSearchCV(SVC(),params,verbose=2)\n",
    "gs.fit(x_train,y_train)"
   ]
  },
  {
   "cell_type": "code",
   "execution_count": 20,
   "id": "b6cbbfb6",
   "metadata": {
    "execution": {
     "iopub.execute_input": "2023-09-06T17:11:50.584948Z",
     "iopub.status.busy": "2023-09-06T17:11:50.583917Z",
     "iopub.status.idle": "2023-09-06T17:11:50.592489Z",
     "shell.execute_reply": "2023-09-06T17:11:50.591473Z"
    },
    "papermill": {
     "duration": 0.030268,
     "end_time": "2023-09-06T17:11:50.594922",
     "exception": false,
     "start_time": "2023-09-06T17:11:50.564654",
     "status": "completed"
    },
    "tags": []
   },
   "outputs": [
    {
     "data": {
      "text/plain": [
       "SVC(C=1, gamma=0.1)"
      ]
     },
     "execution_count": 20,
     "metadata": {},
     "output_type": "execute_result"
    }
   ],
   "source": [
    "gs.best_estimator_"
   ]
  },
  {
   "cell_type": "code",
   "execution_count": 21,
   "id": "00a3ed0a",
   "metadata": {
    "execution": {
     "iopub.execute_input": "2023-09-06T17:11:50.635253Z",
     "iopub.status.busy": "2023-09-06T17:11:50.634174Z",
     "iopub.status.idle": "2023-09-06T17:11:50.642286Z",
     "shell.execute_reply": "2023-09-06T17:11:50.641205Z"
    },
    "papermill": {
     "duration": 0.031631,
     "end_time": "2023-09-06T17:11:50.645543",
     "exception": false,
     "start_time": "2023-09-06T17:11:50.613912",
     "status": "completed"
    },
    "tags": []
   },
   "outputs": [
    {
     "data": {
      "text/plain": [
       "{'C': 1, 'gamma': 0.1}"
      ]
     },
     "execution_count": 21,
     "metadata": {},
     "output_type": "execute_result"
    }
   ],
   "source": [
    "gs.best_params_"
   ]
  },
  {
   "cell_type": "code",
   "execution_count": 22,
   "id": "5f3ae787",
   "metadata": {
    "execution": {
     "iopub.execute_input": "2023-09-06T17:11:50.684256Z",
     "iopub.status.busy": "2023-09-06T17:11:50.683777Z",
     "iopub.status.idle": "2023-09-06T17:11:50.701286Z",
     "shell.execute_reply": "2023-09-06T17:11:50.699491Z"
    },
    "papermill": {
     "duration": 0.03986,
     "end_time": "2023-09-06T17:11:50.704312",
     "exception": false,
     "start_time": "2023-09-06T17:11:50.664452",
     "status": "completed"
    },
    "tags": []
   },
   "outputs": [
    {
     "name": "stdout",
     "output_type": "stream",
     "text": [
      "[[13  0  0]\n",
      " [ 0 19  1]\n",
      " [ 0  0 12]]\n",
      "\n",
      "\n",
      "              precision    recall  f1-score   support\n",
      "\n",
      "           0       1.00      1.00      1.00        13\n",
      "           1       1.00      0.95      0.97        20\n",
      "           2       0.92      1.00      0.96        12\n",
      "\n",
      "    accuracy                           0.98        45\n",
      "   macro avg       0.97      0.98      0.98        45\n",
      "weighted avg       0.98      0.98      0.98        45\n",
      "\n"
     ]
    }
   ],
   "source": [
    "gs_pred = gs.predict(x_test)\n",
    "print(confusion_matrix(y_test,gs_pred))\n",
    "print(\"\\n\")\n",
    "print(classification_report(y_test,gs_pred))"
   ]
  },
  {
   "cell_type": "markdown",
   "id": "835ff43d",
   "metadata": {
    "papermill": {
     "duration": 0.017502,
     "end_time": "2023-09-06T17:11:50.740482",
     "exception": false,
     "start_time": "2023-09-06T17:11:50.722980",
     "status": "completed"
    },
    "tags": []
   },
   "source": [
    "## Decision Tree"
   ]
  },
  {
   "cell_type": "code",
   "execution_count": 23,
   "id": "cb0a3790",
   "metadata": {
    "execution": {
     "iopub.execute_input": "2023-09-06T17:11:50.778024Z",
     "iopub.status.busy": "2023-09-06T17:11:50.777533Z",
     "iopub.status.idle": "2023-09-06T17:11:50.827529Z",
     "shell.execute_reply": "2023-09-06T17:11:50.825760Z"
    },
    "papermill": {
     "duration": 0.072344,
     "end_time": "2023-09-06T17:11:50.830537",
     "exception": false,
     "start_time": "2023-09-06T17:11:50.758193",
     "status": "completed"
    },
    "tags": []
   },
   "outputs": [
    {
     "name": "stdout",
     "output_type": "stream",
     "text": [
      "[[13  0  0]\n",
      " [ 0 19  1]\n",
      " [ 0  1 11]]\n",
      "\n",
      "\n",
      "              precision    recall  f1-score   support\n",
      "\n",
      "           0       1.00      1.00      1.00        13\n",
      "           1       0.95      0.95      0.95        20\n",
      "           2       0.92      0.92      0.92        12\n",
      "\n",
      "    accuracy                           0.96        45\n",
      "   macro avg       0.96      0.96      0.96        45\n",
      "weighted avg       0.96      0.96      0.96        45\n",
      "\n"
     ]
    }
   ],
   "source": [
    "from sklearn.tree import DecisionTreeClassifier\n",
    "dt = DecisionTreeClassifier()\n",
    "dt.fit(x_train,y_train)\n",
    "dt_pred = dt.predict(x_test)\n",
    "print(confusion_matrix(y_test,dt_pred))\n",
    "print(\"\\n\")\n",
    "print(classification_report(y_test,dt_pred))"
   ]
  },
  {
   "cell_type": "markdown",
   "id": "8f9bc41c",
   "metadata": {
    "papermill": {
     "duration": 0.01758,
     "end_time": "2023-09-06T17:11:50.866156",
     "exception": false,
     "start_time": "2023-09-06T17:11:50.848576",
     "status": "completed"
    },
    "tags": []
   },
   "source": [
    "## Random Forest"
   ]
  },
  {
   "cell_type": "code",
   "execution_count": 24,
   "id": "095cb774",
   "metadata": {
    "execution": {
     "iopub.execute_input": "2023-09-06T17:11:50.903514Z",
     "iopub.status.busy": "2023-09-06T17:11:50.903054Z",
     "iopub.status.idle": "2023-09-06T17:11:51.788347Z",
     "shell.execute_reply": "2023-09-06T17:11:51.786760Z"
    },
    "papermill": {
     "duration": 0.90753,
     "end_time": "2023-09-06T17:11:51.791224",
     "exception": false,
     "start_time": "2023-09-06T17:11:50.883694",
     "status": "completed"
    },
    "tags": []
   },
   "outputs": [
    {
     "name": "stdout",
     "output_type": "stream",
     "text": [
      "[[13  0  0]\n",
      " [ 0 19  1]\n",
      " [ 0  1 11]]\n",
      "\n",
      "\n",
      "              precision    recall  f1-score   support\n",
      "\n",
      "           0       1.00      1.00      1.00        13\n",
      "           1       0.95      0.95      0.95        20\n",
      "           2       0.92      0.92      0.92        12\n",
      "\n",
      "    accuracy                           0.96        45\n",
      "   macro avg       0.96      0.96      0.96        45\n",
      "weighted avg       0.96      0.96      0.96        45\n",
      "\n"
     ]
    }
   ],
   "source": [
    "from sklearn.ensemble import RandomForestClassifier\n",
    "rfc = RandomForestClassifier(n_estimators=400)\n",
    "rfc.fit(x_train,y_train)\n",
    "rfc_pred = rfc.predict(x_test)\n",
    "print(confusion_matrix(y_test,rfc_pred))\n",
    "print(\"\\n\")\n",
    "print(classification_report(y_test,rfc_pred))"
   ]
  },
  {
   "cell_type": "markdown",
   "id": "c618322c",
   "metadata": {
    "papermill": {
     "duration": 0.017738,
     "end_time": "2023-09-06T17:11:51.826978",
     "exception": false,
     "start_time": "2023-09-06T17:11:51.809240",
     "status": "completed"
    },
    "tags": []
   },
   "source": [
    "## Logistic Regression"
   ]
  },
  {
   "cell_type": "code",
   "execution_count": 25,
   "id": "5fa19c82",
   "metadata": {
    "execution": {
     "iopub.execute_input": "2023-09-06T17:11:51.864746Z",
     "iopub.status.busy": "2023-09-06T17:11:51.864046Z",
     "iopub.status.idle": "2023-09-06T17:11:51.964886Z",
     "shell.execute_reply": "2023-09-06T17:11:51.962971Z"
    },
    "papermill": {
     "duration": 0.123541,
     "end_time": "2023-09-06T17:11:51.968332",
     "exception": false,
     "start_time": "2023-09-06T17:11:51.844791",
     "status": "completed"
    },
    "tags": []
   },
   "outputs": [
    {
     "name": "stdout",
     "output_type": "stream",
     "text": [
      "[[13  0  0]\n",
      " [ 0 19  1]\n",
      " [ 0  1 11]]\n",
      "\n",
      "\n",
      "              precision    recall  f1-score   support\n",
      "\n",
      "           0       1.00      1.00      1.00        13\n",
      "           1       0.95      0.95      0.95        20\n",
      "           2       0.92      0.92      0.92        12\n",
      "\n",
      "    accuracy                           0.96        45\n",
      "   macro avg       0.96      0.96      0.96        45\n",
      "weighted avg       0.96      0.96      0.96        45\n",
      "\n"
     ]
    },
    {
     "name": "stderr",
     "output_type": "stream",
     "text": [
      "/opt/conda/lib/python3.7/site-packages/sklearn/linear_model/_logistic.py:818: ConvergenceWarning: lbfgs failed to converge (status=1):\n",
      "STOP: TOTAL NO. of ITERATIONS REACHED LIMIT.\n",
      "\n",
      "Increase the number of iterations (max_iter) or scale the data as shown in:\n",
      "    https://scikit-learn.org/stable/modules/preprocessing.html\n",
      "Please also refer to the documentation for alternative solver options:\n",
      "    https://scikit-learn.org/stable/modules/linear_model.html#logistic-regression\n",
      "  extra_warning_msg=_LOGISTIC_SOLVER_CONVERGENCE_MSG,\n"
     ]
    }
   ],
   "source": [
    "from sklearn.linear_model import LogisticRegression\n",
    "lr = LogisticRegression()\n",
    "lr.fit(x_train,y_train)\n",
    "lr_pred = rfc.predict(x_test)\n",
    "print(confusion_matrix(y_test,lr_pred))\n",
    "print(\"\\n\")\n",
    "print(classification_report(y_test,lr_pred))"
   ]
  },
  {
   "cell_type": "code",
   "execution_count": null,
   "id": "16389ba3",
   "metadata": {
    "papermill": {
     "duration": 0.017562,
     "end_time": "2023-09-06T17:11:52.004354",
     "exception": false,
     "start_time": "2023-09-06T17:11:51.986792",
     "status": "completed"
    },
    "tags": []
   },
   "outputs": [],
   "source": []
  }
 ],
 "kernelspec": {
  "display_name": "Python 3",
  "language": "python",
  "name": "python3"
 },
 "language_info": {
  "codemirror_mode": {
   "name": "ipython",
   "version": 3
  },
  "file_extension": ".py",
  "mimetype": "text/x-python",
  "name": "python",
  "nbconvert_exporter": "python",
  "pygments_lexer": "ipython3",
  "version": "3.6.4"
 },
 "metadata": {
  "kernelspec": {
   "display_name": "Python 3",
   "language": "python",
   "name": "python3"
  },
  "language_info": {
   "codemirror_mode": {
    "name": "ipython",
    "version": 3
   },
   "file_extension": ".py",
   "mimetype": "text/x-python",
   "name": "python",
   "nbconvert_exporter": "python",
   "pygments_lexer": "ipython3",
   "version": "3.7.12"
  },
  "papermill": {
   "default_parameters": {},
   "duration": 23.178696,
   "end_time": "2023-09-06T17:11:52.945076",
   "environment_variables": {},
   "exception": null,
   "input_path": "__notebook__.ipynb",
   "output_path": "__notebook__.ipynb",
   "parameters": {},
   "start_time": "2023-09-06T17:11:29.766380",
   "version": "2.3.4"
  }
 },
 "nbformat": 4,
 "nbformat_minor": 5
}
